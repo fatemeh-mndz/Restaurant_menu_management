{
 "cells": [
  {
   "cell_type": "markdown",
   "metadata": {},
   "source": [
    "# Code"
   ]
  },
  {
   "cell_type": "markdown",
   "metadata": {},
   "source": [
    "## Food class"
   ]
  },
  {
   "cell_type": "code",
   "execution_count": 18,
   "metadata": {},
   "outputs": [],
   "source": [
    "class Food:\n",
    "    def __init__(self, title, price, availablity_number, category, ingradients):\n",
    "        self.title = title\n",
    "        self.price = price\n",
    "        self.availablity_number = availablity_number\n",
    "        self.category = category\n",
    "        self.ingradients = ingradients\n",
    "\n",
    "    def __str__(self):\n",
    "        return f\"food item => {self.title}, ingradients : {self.ingradients}, price: {self.price}, availablity: {self.availablity_number}, category: {self.category}\"\\\n",
    "\n",
    "    def reduce_availability(self, number=1):\n",
    "        self.availablity_number -= number\n",
    "\n",
    "    def increase_availability(self, number=1):\n",
    "        self.availablity_number += number\n",
    "\n",
    "    def search_ingradient(self, search_parameter):\n",
    "        for item in self.ingradients:\n",
    "            if search_parameter.lower() in item.lower():\n",
    "                print(f\"title: {self.title} - price: {self.price} - ingradients: {self.ingradients}\")\n",
    "                return\n",
    "        print('Not found!')\n",
    "        \n",
    "        "
   ]
  },
  {
   "cell_type": "markdown",
   "metadata": {},
   "source": [
    "example"
   ]
  },
  {
   "cell_type": "code",
   "execution_count": 46,
   "metadata": {},
   "outputs": [],
   "source": [
    "test = Food(title='Ghorme sabzi', price=10.99, availablity_number=10, category='Main food', ingradients=['Sabzi 1', 'Sabzi 2', 'Loubia', 'Gousht'])"
   ]
  },
  {
   "cell_type": "code",
   "execution_count": 47,
   "metadata": {},
   "outputs": [
    {
     "name": "stdout",
     "output_type": "stream",
     "text": [
      "food item => Ghorme sabzi, ingradients : ['Sabzi 1', 'Sabzi 2', 'Loubia', 'Gousht'], price: 10.99, availablity: 10, category: Main food\n"
     ]
    }
   ],
   "source": [
    "print(test)"
   ]
  },
  {
   "cell_type": "code",
   "execution_count": 48,
   "metadata": {},
   "outputs": [
    {
     "name": "stdout",
     "output_type": "stream",
     "text": [
      "title: Ghorme sabzi - price: 10.99 - ingradients: ['Sabzi 1', 'Sabzi 2', 'Loubia', 'Gousht']\n"
     ]
    }
   ],
   "source": [
    "test.search_ingradient('sab')"
   ]
  },
  {
   "cell_type": "code",
   "execution_count": 49,
   "metadata": {},
   "outputs": [
    {
     "name": "stdout",
     "output_type": "stream",
     "text": [
      "food item => Ghorme sabzi, ingradients : ['Sabzi 1', 'Sabzi 2', 'Loubia', 'Gousht'], price: 10.99, availablity: 6, category: Main food\n"
     ]
    }
   ],
   "source": [
    "test.reduce_availability(4)\n",
    "print(test)"
   ]
  },
  {
   "cell_type": "code",
   "execution_count": 50,
   "metadata": {},
   "outputs": [
    {
     "name": "stdout",
     "output_type": "stream",
     "text": [
      "food item => Ghorme sabzi, ingradients : ['Sabzi 1', 'Sabzi 2', 'Loubia', 'Gousht'], price: 10.99, availablity: 11, category: Main food\n"
     ]
    }
   ],
   "source": [
    "test.increase_availability(5)\n",
    "print(test)"
   ]
  },
  {
   "cell_type": "markdown",
   "metadata": {},
   "source": [
    "## Restaurant menu system"
   ]
  },
  {
   "cell_type": "code",
   "execution_count": 41,
   "metadata": {},
   "outputs": [],
   "source": [
    "class RMS:\n",
    "    def __init__(self, name, working_hours, food_list):\n",
    "        self.name = name\n",
    "        self.working_hours = working_hours\n",
    "        self.food_list = food_list\n",
    "\n",
    "\n",
    "    def __str__(self):\n",
    "        return f\"Hi, welcome to {self.name} - our working hours: {self.working_hours}\"\n",
    "\n",
    "    def search_food(self, name):\n",
    "        result = []\n",
    "        for idx, item in enumerate(self.food_list):\n",
    "            if name.lower() in item.title.lower():\n",
    "                result.append(idx)\n",
    "                \n",
    "        return result\n",
    "\n",
    "    def order(self, title, number=1):\n",
    "        # print('1) search in foods')\n",
    "        result = self.search_food(title)\n",
    "        # print(f'2) search result=> {result}')\n",
    "        \n",
    "        if result:\n",
    "            # print('3) item exist')\n",
    "            selected_food = result[0]\n",
    "            # print(f'4) food index => {selected_food} - availability: {self.food_list[selected_food].availablity_number} - order: {number}')\n",
    "\n",
    "            # print('5) check for availability')\n",
    "            if self.food_list[selected_food].availablity_number < number:\n",
    "                print(f'Sorry, this food has lower availability, only {self.food_list[selected_food].availablity_number} remained!')\n",
    "                return\n",
    "\n",
    "            # print('6) reduce food number')\n",
    "            self.food_list[selected_food].reduce_availability(number)\n",
    "            print('Your order confirmed! Preparing your food...')\n",
    "            return\n",
    "        \n",
    "        print('Sorry, we don\\'t have this food')\n",
    "\n",
    "    def remove_food(self, title):\n",
    "        result = self.search_food(title)\n",
    "        if result:\n",
    "            selected_food = result[0]\n",
    "            self.food_list.remove(self.food_list[selected_food])\n",
    "            print(f'food with {title} title removed from place {selected_food} in the food list')\n",
    "            return\n",
    "\n",
    "        print('Sorry, we don\\'t have this food')    \n"
   ]
  },
  {
   "cell_type": "code",
   "execution_count": 42,
   "metadata": {},
   "outputs": [],
   "source": [
    "food_list = [\n",
    "    Food(title='Ghorme sabzi', price=10.99, availablity_number=10, category='Main food', ingradients=['Sabzi 1', 'Sabzi 2', 'Loubia', 'Gousht']),\n",
    "    Food(title='Kalam polo', price=12.99, availablity_number=5, category='Main food', ingradients=['rice', 'kalam', 'Gousht']),\n",
    "    Food(title='Kalam pich', price=8.99, availablity_number=5, category='Main food', ingradients=['kalam', 'Gousht']),\n",
    "]"
   ]
  },
  {
   "cell_type": "code",
   "execution_count": 43,
   "metadata": {},
   "outputs": [],
   "source": [
    "r1 = RMS('test', '8-21', food_list)"
   ]
  },
  {
   "cell_type": "code",
   "execution_count": 44,
   "metadata": {},
   "outputs": [
    {
     "name": "stdout",
     "output_type": "stream",
     "text": [
      "food with Kalam pich title removed from place 2 in the food list\n"
     ]
    }
   ],
   "source": [
    "r1.remove_food('Kalam pich')"
   ]
  },
  {
   "cell_type": "code",
   "execution_count": 45,
   "metadata": {},
   "outputs": [
    {
     "data": {
      "text/plain": [
       "[<__main__.Food at 0x2ab517c12e0>, <__main__.Food at 0x2ab517c2630>]"
      ]
     },
     "execution_count": 45,
     "metadata": {},
     "output_type": "execute_result"
    }
   ],
   "source": [
    "r1.food_list"
   ]
  },
  {
   "cell_type": "code",
   "execution_count": 46,
   "metadata": {},
   "outputs": [
    {
     "name": "stdout",
     "output_type": "stream",
     "text": [
      "Sorry, we don't have this food\n"
     ]
    }
   ],
   "source": [
    "result = r1.order('Kalam pich', 3)"
   ]
  },
  {
   "cell_type": "code",
   "execution_count": 55,
   "metadata": {},
   "outputs": [],
   "source": [
    "food_list = [\n",
    "    Food(title='Ghorme sabzi', price=10.99, availablity_number=10, category='Main food', ingradients=['Sabzi 1', 'Sabzi 2', 'Loubia', 'Gousht']),\n",
    "    Food(title='Kalam polo', price=12.99, availablity_number=5, category='Main food', ingradients=['rice', 'kalam', 'Gousht']),\n",
    "    Food(title='Kalam pich', price=8.99, availablity_number=5, category='Main food', ingradients=['kalam', 'Gousht']),\n",
    "]"
   ]
  },
  {
   "cell_type": "code",
   "execution_count": 56,
   "metadata": {},
   "outputs": [],
   "source": [
    "res1 = RMS(name='Laziz', working_hours='8 AM - 9 PM', food_list=food_list)"
   ]
  },
  {
   "cell_type": "code",
   "execution_count": 57,
   "metadata": {},
   "outputs": [
    {
     "name": "stdout",
     "output_type": "stream",
     "text": [
      "Hi, welcome to Laziz - our working hours: 8 AM - 9 PM\n"
     ]
    }
   ],
   "source": [
    "print(res1)"
   ]
  },
  {
   "cell_type": "code",
   "execution_count": 59,
   "metadata": {},
   "outputs": [
    {
     "data": {
      "text/plain": [
       "[]"
      ]
     },
     "execution_count": 59,
     "metadata": {},
     "output_type": "execute_result"
    }
   ],
   "source": [
    "res1.search_food('kale')"
   ]
  }
 ],
 "metadata": {
  "kernelspec": {
   "display_name": "Python 3",
   "language": "python",
   "name": "python3"
  },
  "language_info": {
   "codemirror_mode": {
    "name": "ipython",
    "version": 3
   },
   "file_extension": ".py",
   "mimetype": "text/x-python",
   "name": "python",
   "nbconvert_exporter": "python",
   "pygments_lexer": "ipython3",
   "version": "3.12.2"
  }
 },
 "nbformat": 4,
 "nbformat_minor": 2
}
